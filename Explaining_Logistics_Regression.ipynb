{
  "nbformat": 4,
  "nbformat_minor": 0,
  "metadata": {
    "colab": {
      "name": "Explaining Logistics Regression.ipynb",
      "provenance": [],
      "authorship_tag": "ABX9TyNtK8Zp5qoBpK3QEYD6Uhp1",
      "include_colab_link": true
    },
    "kernelspec": {
      "name": "python3",
      "display_name": "Python 3"
    }
  },
  "cells": [
    {
      "cell_type": "markdown",
      "metadata": {
        "id": "view-in-github",
        "colab_type": "text"
      },
      "source": [
        "<a href=\"https://colab.research.google.com/github/AkshataKishore/IML/blob/master/Explaining_Logistics_Regression.ipynb\" target=\"_parent\"><img src=\"https://colab.research.google.com/assets/colab-badge.svg\" alt=\"Open In Colab\"/></a>"
      ]
    },
    {
      "cell_type": "code",
      "metadata": {
        "id": "2j06TgNo3hGQ",
        "outputId": "fc5b1729-eeec-4d79-a349-620fed062a35",
        "colab": {
          "base_uri": "https://localhost:8080/"
        }
      },
      "source": [
        "from google.colab import drive\n",
        "drive.mount(\"/content/drive\")\n",
        "# After executing the cell above, Drive\n",
        "# files will be present in \"/content/drive/My Drive\".\n",
        "!ls \"/content/drive/My Drive\"\n",
        "%cd /content/drive/My Drive/"
      ],
      "execution_count": 1,
      "outputs": [
        {
          "output_type": "stream",
          "text": [
            "Drive already mounted at /content/drive; to attempt to forcibly remount, call drive.mount(\"/content/drive\", force_remount=True).\n",
            " Advertising.html\n",
            "'Akshata KM Resume.pdf'\n",
            "'Akshata Resume.pdf'\n",
            "'Colab Notebooks'\n",
            "'Data Science and Big Data Analytics.pdf'\n",
            "'Document Back up Boeing '\n",
            " Epic_Data_Analysis.ipynb\n",
            " Epic_Sample.csv\n",
            " FeatureHumana.csv\n",
            " holdout.csv\n",
            " holdoutmodel.csv\n",
            " inputmodel.csv\n",
            " interpretable_tree.png\n",
            " modeldata.csv\n",
            "'New_data (1).csv'\n",
            " New_data.csv\n",
            " NYSDOH_HospitalInpatientDischarges_SPARCS_De-Identified_2017.csv\n",
            " OutputResultsHumana.csv\n",
            " PCOS_Data.csv\n",
            " SWEETVIZ_REPORT.html\n",
            "'UMD Textbooks'\n",
            " Untitled0.ipynb\n",
            " Untitled1.ipynb\n",
            " Untitled2.ipynb\n",
            " Untitled3.ipynb\n",
            "'USA Visa Documents'\n",
            "/content/drive/My Drive\n"
          ],
          "name": "stdout"
        }
      ]
    },
    {
      "cell_type": "code",
      "metadata": {
        "id": "uDJdtdw74TEw",
        "outputId": "b4ecd23b-5daf-43b4-a592-d7c7a6dfafc1",
        "colab": {
          "base_uri": "https://localhost:8080/"
        }
      },
      "source": [
        "import time,os,json\n",
        "import numpy as np\n",
        "import pandas as pd\n",
        "import seaborn as sns\n",
        "from tqdm import tqdm_notebook as tqdm\n",
        "import matplotlib.pyplot as plt\n",
        "\n",
        "%matplotlib inline\n",
        "%config InlineBackend.figure_format = 'retina'\n",
        "plt.style.use('ggplot') # random state\n",
        "SEED=100\n",
        "time_start_notebook = time.time()\n",
        "home = os.path.expanduser('~')\n",
        "[(x.__name__,x.__version__) for x in [np,pd,sns]]"
      ],
      "execution_count": 2,
      "outputs": [
        {
          "output_type": "execute_result",
          "data": {
            "text/plain": [
              "[('numpy', '1.18.5'), ('pandas', '1.1.3'), ('seaborn', '0.11.0')]"
            ]
          },
          "metadata": {
            "tags": []
          },
          "execution_count": 2
        }
      ]
    },
    {
      "cell_type": "code",
      "metadata": {
        "id": "pbTAoV0O4UJ8"
      },
      "source": [
        "%%capture\n",
        "# capture will not print in notebook\n",
        "\n",
        "import os\n",
        "import sys\n",
        "ENV_COLAB = 'google.colab' in sys.modules\n",
        "\n",
        "if ENV_COLAB:\n",
        "    ## model evaluation\n",
        "    !pip install -U watermark\n",
        "    !pip install -U xgboost\n",
        "    !pip install -U eli5\n",
        "    !pip install -U shap\n",
        "    !pip install -U pdpbox\n",
        "    !pip install -U yellowbrick\n",
        "    !pip install -U lime\n",
        "    !pip install -U skater \n",
        "    #### print\n",
        "    print('Environment: Google Colaboratory.')\n"
      ],
      "execution_count": 3,
      "outputs": []
    },
    {
      "cell_type": "code",
      "metadata": {
        "id": "og7o1mvz4Wzq",
        "outputId": "830567a7-bc53-4243-a29f-b02cb3d1c620",
        "colab": {
          "base_uri": "https://localhost:8080/"
        }
      },
      "source": [
        "import pandas as pd \n",
        "df = pd.read_csv('PCOS_Data.csv')\n",
        "from sklearn.model_selection import train_test_split\n",
        "\n",
        "target = 'PCOS (Y/N)'\n",
        "\n",
        "df_Xtrain, df_Xtest, ser_ytrain, ser_ytest = train_test_split(\n",
        "    df.drop(target,axis=1), df[target],\n",
        "    test_size=0.2, random_state=SEED, stratify=df[target])\n",
        "\n",
        "ytrain = ser_ytrain.to_numpy().ravel()\n",
        "ytest = ser_ytest.to_numpy().ravel()\n",
        "\n",
        "features_train = df_Xtrain.columns.to_list()\n",
        "features_train"
      ],
      "execution_count": 3,
      "outputs": [
        {
          "output_type": "execute_result",
          "data": {
            "text/plain": [
              "[' Age (yrs)',\n",
              " 'Weight (Kg)',\n",
              " 'Height(Cm) ',\n",
              " 'BMI',\n",
              " 'Blood Group',\n",
              " 'Pulse rate(bpm) ',\n",
              " 'RR (breaths/min)',\n",
              " 'Hb(g/dl)',\n",
              " 'Cycle(R/I)',\n",
              " 'Cycle length(days)',\n",
              " 'Marraige Status (Yrs)',\n",
              " 'Pregnant(Y/N)',\n",
              " 'No. of aborptions',\n",
              " 'FSH(mIU/mL)',\n",
              " 'LH(mIU/mL)',\n",
              " 'Hip(inch)',\n",
              " 'Waist(inch)',\n",
              " 'TSH (mIU/L)',\n",
              " 'AMH(ng/mL)',\n",
              " 'PRL(ng/mL)',\n",
              " 'Vit D3 (ng/mL)',\n",
              " 'PRG(ng/mL)',\n",
              " 'RBS(mg/dl)',\n",
              " 'Weight gain(Y/N)',\n",
              " 'hair growth(Y/N)',\n",
              " 'Skin darkening (Y/N)',\n",
              " 'Hair loss(Y/N)',\n",
              " 'Pimples(Y/N)',\n",
              " 'Fast food (Y/N)',\n",
              " 'Reg.Exercise(Y/N)',\n",
              " 'BP _Systolic (mmHg)',\n",
              " 'BP _Diastolic (mmHg)',\n",
              " 'Follicle No. (L)',\n",
              " 'Follicle No. (R)',\n",
              " 'Avg. F size (L) (mm)',\n",
              " 'Avg. F size (R) (mm)',\n",
              " 'Endometrium (mm)']"
            ]
          },
          "metadata": {
            "tags": []
          },
          "execution_count": 3
        }
      ]
    },
    {
      "cell_type": "code",
      "metadata": {
        "id": "lHrMCdOh5Myv",
        "outputId": "e6f1103a-47bd-4193-bca4-1542e1ad56a0",
        "colab": {
          "base_uri": "https://localhost:8080/"
        }
      },
      "source": [
        "! pip install aif360"
      ],
      "execution_count": 8,
      "outputs": [
        {
          "output_type": "stream",
          "text": [
            "Collecting aif360\n",
            "\u001b[?25l  Downloading https://files.pythonhosted.org/packages/3b/e9/f2a936a00c65ce7b4d45587a33c4522fabd773f7325d505a87d133a1dabc/aif360-0.3.0-py3-none-any.whl (165kB)\n",
            "\r\u001b[K     |██                              | 10kB 17.4MB/s eta 0:00:01\r\u001b[K     |████                            | 20kB 1.7MB/s eta 0:00:01\r\u001b[K     |██████                          | 30kB 2.3MB/s eta 0:00:01\r\u001b[K     |████████                        | 40kB 2.6MB/s eta 0:00:01\r\u001b[K     |██████████                      | 51kB 2.0MB/s eta 0:00:01\r\u001b[K     |███████████▉                    | 61kB 2.3MB/s eta 0:00:01\r\u001b[K     |█████████████▉                  | 71kB 2.5MB/s eta 0:00:01\r\u001b[K     |███████████████▉                | 81kB 2.7MB/s eta 0:00:01\r\u001b[K     |█████████████████▉              | 92kB 2.9MB/s eta 0:00:01\r\u001b[K     |███████████████████▉            | 102kB 2.8MB/s eta 0:00:01\r\u001b[K     |█████████████████████▊          | 112kB 2.8MB/s eta 0:00:01\r\u001b[K     |███████████████████████▊        | 122kB 2.8MB/s eta 0:00:01\r\u001b[K     |█████████████████████████▊      | 133kB 2.8MB/s eta 0:00:01\r\u001b[K     |███████████████████████████▊    | 143kB 2.8MB/s eta 0:00:01\r\u001b[K     |█████████████████████████████▊  | 153kB 2.8MB/s eta 0:00:01\r\u001b[K     |███████████████████████████████▋| 163kB 2.8MB/s eta 0:00:01\r\u001b[K     |████████████████████████████████| 174kB 2.8MB/s \n",
            "\u001b[?25hRequirement already satisfied: scikit-learn>=0.21 in /usr/local/lib/python3.6/dist-packages (from aif360) (0.22.2.post1)\n",
            "Requirement already satisfied: matplotlib in /usr/local/lib/python3.6/dist-packages (from aif360) (3.2.2)\n",
            "Requirement already satisfied: numpy>=1.16 in /usr/local/lib/python3.6/dist-packages (from aif360) (1.18.5)\n",
            "Requirement already satisfied: scipy>=1.2.0 in /usr/local/lib/python3.6/dist-packages (from aif360) (1.4.1)\n",
            "Requirement already satisfied: pandas>=0.24.0 in /usr/local/lib/python3.6/dist-packages (from aif360) (1.1.3)\n",
            "Requirement already satisfied: joblib>=0.11 in /usr/local/lib/python3.6/dist-packages (from scikit-learn>=0.21->aif360) (0.11)\n",
            "Requirement already satisfied: cycler>=0.10 in /usr/local/lib/python3.6/dist-packages (from matplotlib->aif360) (0.10.0)\n",
            "Requirement already satisfied: python-dateutil>=2.1 in /usr/local/lib/python3.6/dist-packages (from matplotlib->aif360) (2.8.1)\n",
            "Requirement already satisfied: kiwisolver>=1.0.1 in /usr/local/lib/python3.6/dist-packages (from matplotlib->aif360) (1.2.0)\n",
            "Requirement already satisfied: pyparsing!=2.0.4,!=2.1.2,!=2.1.6,>=2.0.1 in /usr/local/lib/python3.6/dist-packages (from matplotlib->aif360) (2.4.7)\n",
            "Requirement already satisfied: pytz>=2017.2 in /usr/local/lib/python3.6/dist-packages (from pandas>=0.24.0->aif360) (2018.9)\n",
            "Requirement already satisfied: six in /usr/local/lib/python3.6/dist-packages (from cycler>=0.10->matplotlib->aif360) (1.15.0)\n",
            "Installing collected packages: aif360\n",
            "Successfully installed aif360-0.3.0\n"
          ],
          "name": "stdout"
        }
      ]
    },
    {
      "cell_type": "code",
      "metadata": {
        "id": "kTSVupwt5M_g",
        "outputId": "ecbe4c83-e3b1-458e-d004-44516a45fc36",
        "colab": {
          "base_uri": "https://localhost:8080/",
          "height": 328
        }
      },
      "source": [
        "\n",
        "import aif360\n",
        "from aix360.algorithms.rbm import FeatureBinarizer\n",
        "fb = FeatureBinarizer(negations=True)\n",
        "X_train_fb = fb.fit_transform(df_Xtrain)\n",
        "X_test_fb = fb.transform(df_Xtest)\n",
        "X_train_fb['BMI'][:8]"
      ],
      "execution_count": 15,
      "outputs": [
        {
          "output_type": "execute_result",
          "data": {
            "text/html": [
              "<div>\n",
              "<style scoped>\n",
              "    .dataframe tbody tr th:only-of-type {\n",
              "        vertical-align: middle;\n",
              "    }\n",
              "\n",
              "    .dataframe tbody tr th {\n",
              "        vertical-align: top;\n",
              "    }\n",
              "\n",
              "    .dataframe thead tr th {\n",
              "        text-align: left;\n",
              "    }\n",
              "</style>\n",
              "<table border=\"1\" class=\"dataframe\">\n",
              "  <thead>\n",
              "    <tr>\n",
              "      <th>operation</th>\n",
              "      <th colspan=\"9\" halign=\"left\">&lt;=</th>\n",
              "      <th colspan=\"9\" halign=\"left\">&gt;</th>\n",
              "    </tr>\n",
              "    <tr>\n",
              "      <th>value</th>\n",
              "      <th>19.415429</th>\n",
              "      <th>21.183704</th>\n",
              "      <th>22.239375</th>\n",
              "      <th>23.134148</th>\n",
              "      <th>24.100000</th>\n",
              "      <th>25.100000</th>\n",
              "      <th>26.000000</th>\n",
              "      <th>27.239224</th>\n",
              "      <th>29.042415</th>\n",
              "      <th>19.415429</th>\n",
              "      <th>21.183704</th>\n",
              "      <th>22.239375</th>\n",
              "      <th>23.134148</th>\n",
              "      <th>24.100000</th>\n",
              "      <th>25.100000</th>\n",
              "      <th>26.000000</th>\n",
              "      <th>27.239224</th>\n",
              "      <th>29.042415</th>\n",
              "    </tr>\n",
              "  </thead>\n",
              "  <tbody>\n",
              "    <tr>\n",
              "      <th>124</th>\n",
              "      <td>0</td>\n",
              "      <td>0</td>\n",
              "      <td>0</td>\n",
              "      <td>0</td>\n",
              "      <td>0</td>\n",
              "      <td>0</td>\n",
              "      <td>0</td>\n",
              "      <td>0</td>\n",
              "      <td>0</td>\n",
              "      <td>1</td>\n",
              "      <td>1</td>\n",
              "      <td>1</td>\n",
              "      <td>1</td>\n",
              "      <td>1</td>\n",
              "      <td>1</td>\n",
              "      <td>1</td>\n",
              "      <td>1</td>\n",
              "      <td>1</td>\n",
              "    </tr>\n",
              "    <tr>\n",
              "      <th>40</th>\n",
              "      <td>1</td>\n",
              "      <td>1</td>\n",
              "      <td>1</td>\n",
              "      <td>1</td>\n",
              "      <td>1</td>\n",
              "      <td>1</td>\n",
              "      <td>1</td>\n",
              "      <td>1</td>\n",
              "      <td>1</td>\n",
              "      <td>0</td>\n",
              "      <td>0</td>\n",
              "      <td>0</td>\n",
              "      <td>0</td>\n",
              "      <td>0</td>\n",
              "      <td>0</td>\n",
              "      <td>0</td>\n",
              "      <td>0</td>\n",
              "      <td>0</td>\n",
              "    </tr>\n",
              "    <tr>\n",
              "      <th>282</th>\n",
              "      <td>0</td>\n",
              "      <td>0</td>\n",
              "      <td>0</td>\n",
              "      <td>0</td>\n",
              "      <td>0</td>\n",
              "      <td>1</td>\n",
              "      <td>1</td>\n",
              "      <td>1</td>\n",
              "      <td>1</td>\n",
              "      <td>1</td>\n",
              "      <td>1</td>\n",
              "      <td>1</td>\n",
              "      <td>1</td>\n",
              "      <td>1</td>\n",
              "      <td>0</td>\n",
              "      <td>0</td>\n",
              "      <td>0</td>\n",
              "      <td>0</td>\n",
              "    </tr>\n",
              "    <tr>\n",
              "      <th>443</th>\n",
              "      <td>0</td>\n",
              "      <td>0</td>\n",
              "      <td>0</td>\n",
              "      <td>0</td>\n",
              "      <td>1</td>\n",
              "      <td>1</td>\n",
              "      <td>1</td>\n",
              "      <td>1</td>\n",
              "      <td>1</td>\n",
              "      <td>1</td>\n",
              "      <td>1</td>\n",
              "      <td>1</td>\n",
              "      <td>1</td>\n",
              "      <td>0</td>\n",
              "      <td>0</td>\n",
              "      <td>0</td>\n",
              "      <td>0</td>\n",
              "      <td>0</td>\n",
              "    </tr>\n",
              "    <tr>\n",
              "      <th>112</th>\n",
              "      <td>0</td>\n",
              "      <td>0</td>\n",
              "      <td>0</td>\n",
              "      <td>0</td>\n",
              "      <td>0</td>\n",
              "      <td>1</td>\n",
              "      <td>1</td>\n",
              "      <td>1</td>\n",
              "      <td>1</td>\n",
              "      <td>1</td>\n",
              "      <td>1</td>\n",
              "      <td>1</td>\n",
              "      <td>1</td>\n",
              "      <td>1</td>\n",
              "      <td>0</td>\n",
              "      <td>0</td>\n",
              "      <td>0</td>\n",
              "      <td>0</td>\n",
              "    </tr>\n",
              "    <tr>\n",
              "      <th>385</th>\n",
              "      <td>0</td>\n",
              "      <td>0</td>\n",
              "      <td>0</td>\n",
              "      <td>0</td>\n",
              "      <td>0</td>\n",
              "      <td>0</td>\n",
              "      <td>0</td>\n",
              "      <td>0</td>\n",
              "      <td>0</td>\n",
              "      <td>1</td>\n",
              "      <td>1</td>\n",
              "      <td>1</td>\n",
              "      <td>1</td>\n",
              "      <td>1</td>\n",
              "      <td>1</td>\n",
              "      <td>1</td>\n",
              "      <td>1</td>\n",
              "      <td>1</td>\n",
              "    </tr>\n",
              "    <tr>\n",
              "      <th>505</th>\n",
              "      <td>0</td>\n",
              "      <td>0</td>\n",
              "      <td>0</td>\n",
              "      <td>0</td>\n",
              "      <td>0</td>\n",
              "      <td>0</td>\n",
              "      <td>1</td>\n",
              "      <td>1</td>\n",
              "      <td>1</td>\n",
              "      <td>1</td>\n",
              "      <td>1</td>\n",
              "      <td>1</td>\n",
              "      <td>1</td>\n",
              "      <td>1</td>\n",
              "      <td>1</td>\n",
              "      <td>0</td>\n",
              "      <td>0</td>\n",
              "      <td>0</td>\n",
              "    </tr>\n",
              "    <tr>\n",
              "      <th>380</th>\n",
              "      <td>0</td>\n",
              "      <td>0</td>\n",
              "      <td>0</td>\n",
              "      <td>0</td>\n",
              "      <td>0</td>\n",
              "      <td>0</td>\n",
              "      <td>0</td>\n",
              "      <td>1</td>\n",
              "      <td>1</td>\n",
              "      <td>1</td>\n",
              "      <td>1</td>\n",
              "      <td>1</td>\n",
              "      <td>1</td>\n",
              "      <td>1</td>\n",
              "      <td>1</td>\n",
              "      <td>1</td>\n",
              "      <td>0</td>\n",
              "      <td>0</td>\n",
              "    </tr>\n",
              "  </tbody>\n",
              "</table>\n",
              "</div>"
            ],
            "text/plain": [
              "operation        <=                      ...         >                    \n",
              "value     19.415429 21.183704 22.239375  ... 26.000000 27.239224 29.042415\n",
              "124               0         0         0  ...         1         1         1\n",
              "40                1         1         1  ...         0         0         0\n",
              "282               0         0         0  ...         0         0         0\n",
              "443               0         0         0  ...         0         0         0\n",
              "112               0         0         0  ...         0         0         0\n",
              "385               0         0         0  ...         1         1         1\n",
              "505               0         0         0  ...         0         0         0\n",
              "380               0         0         0  ...         1         0         0\n",
              "\n",
              "[8 rows x 18 columns]"
            ]
          },
          "metadata": {
            "tags": []
          },
          "execution_count": 15
        }
      ]
    },
    {
      "cell_type": "code",
      "metadata": {
        "id": "u30MsGee96Vt",
        "outputId": "88a6fcba-c373-435c-b34a-06f927bdeaab",
        "colab": {
          "base_uri": "https://localhost:8080/",
          "height": 1000
        }
      },
      "source": [
        "! pip install aix360"
      ],
      "execution_count": 16,
      "outputs": [
        {
          "output_type": "stream",
          "text": [
            "Collecting aix360\n",
            "\u001b[?25l  Downloading https://files.pythonhosted.org/packages/55/87/abddf944665b614030451bf00f3ceb3b2511f721ad195c023be567b9f726/aix360-0.2.1-py3-none-any.whl (58.3MB)\n",
            "\u001b[K     |████████████████████████████████| 58.3MB 74kB/s \n",
            "\u001b[?25hCollecting xport\n",
            "  Downloading https://files.pythonhosted.org/packages/6a/a0/ade37253fe2c7a457a9a8703e93e4b1517dd53315e3941416ee4f7463f08/xport-2.0.2-py2.py3-none-any.whl\n",
            "Requirement already satisfied: torch in /usr/local/lib/python3.6/dist-packages (from aix360) (1.6.0+cu101)\n",
            "Requirement already satisfied: Image in /usr/local/lib/python3.6/dist-packages (from aix360) (1.5.32)\n",
            "Requirement already satisfied: requests in /usr/local/lib/python3.6/dist-packages (from aix360) (2.23.0)\n",
            "Requirement already satisfied: docutils>=0.13.1 in /usr/local/lib/python3.6/dist-packages (from aix360) (0.16)\n",
            "Collecting lime==0.1.1.37\n",
            "\u001b[?25l  Downloading https://files.pythonhosted.org/packages/b5/e0/60070b461a589b2fee0dbc45df9987f150fca83667c2f8a064cef7dbac6b/lime-0.1.1.37.tar.gz (275kB)\n",
            "\u001b[K     |████████████████████████████████| 276kB 41.8MB/s \n",
            "\u001b[?25hRequirement already satisfied: pandas in /usr/local/lib/python3.6/dist-packages (from aix360) (1.1.3)\n",
            "Requirement already satisfied: matplotlib in /usr/local/lib/python3.6/dist-packages (from aix360) (3.2.2)\n",
            "Requirement already satisfied: Pygments in /usr/local/lib/python3.6/dist-packages (from aix360) (2.6.1)\n",
            "Requirement already satisfied: bleach>=2.1.0 in /usr/local/lib/python3.6/dist-packages (from aix360) (3.2.1)\n",
            "Collecting tensorflow==1.14\n",
            "\u001b[?25l  Downloading https://files.pythonhosted.org/packages/de/f0/96fb2e0412ae9692dbf400e5b04432885f677ad6241c088ccc5fe7724d69/tensorflow-1.14.0-cp36-cp36m-manylinux1_x86_64.whl (109.2MB)\n",
            "\u001b[K     |████████████████████████████████| 109.2MB 52kB/s \n",
            "\u001b[?25hRequirement already satisfied: torchvision in /usr/local/lib/python3.6/dist-packages (from aix360) (0.7.0+cu101)\n",
            "Requirement already satisfied: cvxopt in /usr/local/lib/python3.6/dist-packages (from aix360) (1.2.5)\n",
            "Requirement already satisfied: scikit-image in /usr/local/lib/python3.6/dist-packages (from aix360) (0.14.0)\n",
            "Collecting keras==2.3.1\n",
            "\u001b[?25l  Downloading https://files.pythonhosted.org/packages/ad/fd/6bfe87920d7f4fd475acd28500a42482b6b84479832bdc0fe9e589a60ceb/Keras-2.3.1-py2.py3-none-any.whl (377kB)\n",
            "\u001b[K     |████████████████████████████████| 378kB 44.7MB/s \n",
            "\u001b[?25hRequirement already satisfied: numpy in /usr/local/lib/python3.6/dist-packages (from aix360) (1.18.5)\n",
            "Requirement already satisfied: scipy>=0.17 in /usr/local/lib/python3.6/dist-packages (from aix360) (1.4.1)\n",
            "Requirement already satisfied: cvxpy in /usr/local/lib/python3.6/dist-packages (from aix360) (1.0.31)\n",
            "Requirement already satisfied: joblib>=0.11 in /usr/local/lib/python3.6/dist-packages (from aix360) (0.11)\n",
            "Requirement already satisfied: scikit-learn>=0.21.2 in /usr/local/lib/python3.6/dist-packages (from aix360) (0.22.2.post1)\n",
            "Collecting xgboost==1.0.2\n",
            "\u001b[?25l  Downloading https://files.pythonhosted.org/packages/70/91/551d37ba472bcbd70a25e667acc65a18a9d053657b13afcf0f87aa24d7bb/xgboost-1.0.2-py3-none-manylinux1_x86_64.whl (109.7MB)\n",
            "\u001b[K     |████████████████████████████████| 109.8MB 106kB/s \n",
            "\u001b[?25hCollecting qpsolvers\n",
            "  Downloading https://files.pythonhosted.org/packages/08/bd/5ea67fe9071013b635ca15afbc1860573fa963328e07336315add4ecbd48/qpsolvers-1.4.tar.gz\n",
            "Collecting shap==0.34.0\n",
            "\u001b[?25l  Downloading https://files.pythonhosted.org/packages/b8/db/58740847c0df6b346a999e3c375936436f4155354f6b644aa6e203bb40f3/shap-0.34.0.tar.gz (264kB)\n",
            "\u001b[K     |████████████████████████████████| 266kB 38.0MB/s \n",
            "\u001b[?25hRequirement already satisfied: future in /usr/local/lib/python3.6/dist-packages (from torch->aix360) (0.16.0)\n",
            "Requirement already satisfied: six in /usr/local/lib/python3.6/dist-packages (from Image->aix360) (1.15.0)\n",
            "Requirement already satisfied: django in /usr/local/lib/python3.6/dist-packages (from Image->aix360) (3.1.2)\n",
            "Requirement already satisfied: pillow in /usr/local/lib/python3.6/dist-packages (from Image->aix360) (7.0.0)\n",
            "Requirement already satisfied: certifi>=2017.4.17 in /usr/local/lib/python3.6/dist-packages (from requests->aix360) (2020.6.20)\n",
            "Requirement already satisfied: urllib3!=1.25.0,!=1.25.1,<1.26,>=1.21.1 in /usr/local/lib/python3.6/dist-packages (from requests->aix360) (1.24.3)\n",
            "Requirement already satisfied: idna<3,>=2.5 in /usr/local/lib/python3.6/dist-packages (from requests->aix360) (2.10)\n",
            "Requirement already satisfied: chardet<4,>=3.0.2 in /usr/local/lib/python3.6/dist-packages (from requests->aix360) (3.0.4)\n",
            "Collecting progressbar\n",
            "  Downloading https://files.pythonhosted.org/packages/a3/a6/b8e451f6cff1c99b4747a2f7235aa904d2d49e8e1464e0b798272aa84358/progressbar-2.5.tar.gz\n",
            "Requirement already satisfied: python-dateutil>=2.7.3 in /usr/local/lib/python3.6/dist-packages (from pandas->aix360) (2.8.1)\n",
            "Requirement already satisfied: pytz>=2017.2 in /usr/local/lib/python3.6/dist-packages (from pandas->aix360) (2018.9)\n",
            "Requirement already satisfied: pyparsing!=2.0.4,!=2.1.2,!=2.1.6,>=2.0.1 in /usr/local/lib/python3.6/dist-packages (from matplotlib->aix360) (2.4.7)\n",
            "Requirement already satisfied: kiwisolver>=1.0.1 in /usr/local/lib/python3.6/dist-packages (from matplotlib->aix360) (1.2.0)\n",
            "Requirement already satisfied: cycler>=0.10 in /usr/local/lib/python3.6/dist-packages (from matplotlib->aix360) (0.10.0)\n",
            "Requirement already satisfied: packaging in /usr/local/lib/python3.6/dist-packages (from bleach>=2.1.0->aix360) (20.4)\n",
            "Requirement already satisfied: webencodings in /usr/local/lib/python3.6/dist-packages (from bleach>=2.1.0->aix360) (0.5.1)\n",
            "Requirement already satisfied: keras-preprocessing>=1.0.5 in /usr/local/lib/python3.6/dist-packages (from tensorflow==1.14->aix360) (1.1.2)\n",
            "Requirement already satisfied: wheel>=0.26 in /usr/local/lib/python3.6/dist-packages (from tensorflow==1.14->aix360) (0.35.1)\n",
            "Requirement already satisfied: wrapt>=1.11.1 in /usr/local/lib/python3.6/dist-packages (from tensorflow==1.14->aix360) (1.12.1)\n",
            "Collecting keras-applications>=1.0.6\n",
            "\u001b[?25l  Downloading https://files.pythonhosted.org/packages/71/e3/19762fdfc62877ae9102edf6342d71b28fbfd9dea3d2f96a882ce099b03f/Keras_Applications-1.0.8-py3-none-any.whl (50kB)\n",
            "\u001b[K     |████████████████████████████████| 51kB 5.8MB/s \n",
            "\u001b[?25hRequirement already satisfied: google-pasta>=0.1.6 in /usr/local/lib/python3.6/dist-packages (from tensorflow==1.14->aix360) (0.2.0)\n",
            "Requirement already satisfied: gast>=0.2.0 in /usr/local/lib/python3.6/dist-packages (from tensorflow==1.14->aix360) (0.3.3)\n",
            "Requirement already satisfied: protobuf>=3.6.1 in /usr/local/lib/python3.6/dist-packages (from tensorflow==1.14->aix360) (3.12.4)\n",
            "Requirement already satisfied: astor>=0.6.0 in /usr/local/lib/python3.6/dist-packages (from tensorflow==1.14->aix360) (0.8.1)\n",
            "Requirement already satisfied: absl-py>=0.7.0 in /usr/local/lib/python3.6/dist-packages (from tensorflow==1.14->aix360) (0.10.0)\n",
            "Requirement already satisfied: grpcio>=1.8.6 in /usr/local/lib/python3.6/dist-packages (from tensorflow==1.14->aix360) (1.33.1)\n",
            "Requirement already satisfied: termcolor>=1.1.0 in /usr/local/lib/python3.6/dist-packages (from tensorflow==1.14->aix360) (1.1.0)\n",
            "Collecting tensorflow-estimator<1.15.0rc0,>=1.14.0rc0\n",
            "\u001b[?25l  Downloading https://files.pythonhosted.org/packages/3c/d5/21860a5b11caf0678fbc8319341b0ae21a07156911132e0e71bffed0510d/tensorflow_estimator-1.14.0-py2.py3-none-any.whl (488kB)\n",
            "\u001b[K     |████████████████████████████████| 491kB 18.2MB/s \n",
            "\u001b[?25hCollecting tensorboard<1.15.0,>=1.14.0\n",
            "\u001b[?25l  Downloading https://files.pythonhosted.org/packages/91/2d/2ed263449a078cd9c8a9ba50ebd50123adf1f8cfbea1492f9084169b89d9/tensorboard-1.14.0-py3-none-any.whl (3.1MB)\n",
            "\u001b[K     |████████████████████████████████| 3.2MB 38.5MB/s \n",
            "\u001b[?25hRequirement already satisfied: cloudpickle>=0.2.1 in /usr/local/lib/python3.6/dist-packages (from scikit-image->aix360) (1.3.0)\n",
            "Requirement already satisfied: networkx>=1.8 in /usr/local/lib/python3.6/dist-packages (from scikit-image->aix360) (2.5)\n",
            "Requirement already satisfied: dask[array]>=0.9.0 in /usr/local/lib/python3.6/dist-packages (from scikit-image->aix360) (2.12.0)\n",
            "Requirement already satisfied: PyWavelets>=0.4.0 in /usr/local/lib/python3.6/dist-packages (from scikit-image->aix360) (1.1.1)\n",
            "Requirement already satisfied: h5py in /usr/local/lib/python3.6/dist-packages (from keras==2.3.1->aix360) (2.10.0)\n",
            "Requirement already satisfied: pyyaml in /usr/local/lib/python3.6/dist-packages (from keras==2.3.1->aix360) (3.13)\n",
            "Requirement already satisfied: ecos>=2 in /usr/local/lib/python3.6/dist-packages (from cvxpy->aix360) (2.0.7.post1)\n",
            "Requirement already satisfied: scs>=1.1.3 in /usr/local/lib/python3.6/dist-packages (from cvxpy->aix360) (2.1.2)\n",
            "Requirement already satisfied: osqp>=0.4.1 in /usr/local/lib/python3.6/dist-packages (from cvxpy->aix360) (0.6.1)\n",
            "Requirement already satisfied: multiprocess in /usr/local/lib/python3.6/dist-packages (from cvxpy->aix360) (0.70.10)\n",
            "Collecting quadprog\n",
            "  Downloading https://files.pythonhosted.org/packages/5a/f0/d4c8866f5d14dfa1a441439f5ce0d2680844651772129c431e78caadfe10/quadprog-0.1.7.tar.gz\n",
            "Requirement already satisfied: tqdm>4.25.0 in /usr/local/lib/python3.6/dist-packages (from shap==0.34.0->aix360) (4.41.1)\n",
            "Requirement already satisfied: sqlparse>=0.2.2 in /usr/local/lib/python3.6/dist-packages (from django->Image->aix360) (0.4.1)\n",
            "Requirement already satisfied: asgiref~=3.2.10 in /usr/local/lib/python3.6/dist-packages (from django->Image->aix360) (3.2.10)\n",
            "Requirement already satisfied: setuptools in /usr/local/lib/python3.6/dist-packages (from protobuf>=3.6.1->tensorflow==1.14->aix360) (50.3.2)\n",
            "Requirement already satisfied: markdown>=2.6.8 in /usr/local/lib/python3.6/dist-packages (from tensorboard<1.15.0,>=1.14.0->tensorflow==1.14->aix360) (3.3.2)\n",
            "Requirement already satisfied: werkzeug>=0.11.15 in /usr/local/lib/python3.6/dist-packages (from tensorboard<1.15.0,>=1.14.0->tensorflow==1.14->aix360) (1.0.1)\n",
            "Requirement already satisfied: decorator>=4.3.0 in /usr/local/lib/python3.6/dist-packages (from networkx>=1.8->scikit-image->aix360) (4.4.2)\n",
            "Requirement already satisfied: toolz>=0.7.3; extra == \"array\" in /usr/local/lib/python3.6/dist-packages (from dask[array]>=0.9.0->scikit-image->aix360) (0.11.1)\n",
            "Requirement already satisfied: dill>=0.3.2 in /usr/local/lib/python3.6/dist-packages (from multiprocess->cvxpy->aix360) (0.3.2)\n",
            "Requirement already satisfied: Cython in /usr/local/lib/python3.6/dist-packages (from quadprog->qpsolvers->aix360) (0.29.21)\n",
            "Requirement already satisfied: importlib-metadata; python_version < \"3.8\" in /usr/local/lib/python3.6/dist-packages (from markdown>=2.6.8->tensorboard<1.15.0,>=1.14.0->tensorflow==1.14->aix360) (2.0.0)\n",
            "Requirement already satisfied: zipp>=0.5 in /usr/local/lib/python3.6/dist-packages (from importlib-metadata; python_version < \"3.8\"->markdown>=2.6.8->tensorboard<1.15.0,>=1.14.0->tensorflow==1.14->aix360) (3.3.1)\n",
            "Building wheels for collected packages: lime, qpsolvers, shap, progressbar, quadprog\n",
            "  Building wheel for lime (setup.py) ... \u001b[?25l\u001b[?25hdone\n",
            "  Created wheel for lime: filename=lime-0.1.1.37-cp36-none-any.whl size=284277 sha256=0dcc201b99aa310dc5e7d95ba05fd259c8271f3f76f77ebfa41f49b367873db1\n",
            "  Stored in directory: /root/.cache/pip/wheels/c1/38/e7/50d75d4fb75afa604570dc42f20c5c5f5ab26d3fbe8d6ef27b\n",
            "  Building wheel for qpsolvers (setup.py) ... \u001b[?25l\u001b[?25hdone\n",
            "  Created wheel for qpsolvers: filename=qpsolvers-1.4-cp36-none-any.whl size=18455 sha256=1a3e1bcc4270b744dc32479c9c98bb651a9adcc201a2d13738ce1ed6028f98a4\n",
            "  Stored in directory: /root/.cache/pip/wheels/ce/a7/5f/2af411a5eea3909096a303f84b7d6ff84e440081e8baccb4f2\n",
            "  Building wheel for shap (setup.py) ... \u001b[?25l\u001b[?25hdone\n",
            "  Created wheel for shap: filename=shap-0.34.0-cp36-cp36m-linux_x86_64.whl size=383154 sha256=d3c889c4be3f36bc9c38b0f1a2bfbef0d99d0db83444f7c03403d01f7d94b52b\n",
            "  Stored in directory: /root/.cache/pip/wheels/28/7e/28/57bc9fcb77579b0df6561298648249370648c0b91dfe42c8ec\n",
            "  Building wheel for progressbar (setup.py) ... \u001b[?25l\u001b[?25hdone\n",
            "  Created wheel for progressbar: filename=progressbar-2.5-cp36-none-any.whl size=12076 sha256=68d89fa3bdc9b9f93b49b35be75ead3cad49f5a8a00967b7985ccf2f205cf032\n",
            "  Stored in directory: /root/.cache/pip/wheels/c0/e9/6b/ea01090205e285175842339aa3b491adeb4015206cda272ff0\n",
            "  Building wheel for quadprog (setup.py) ... \u001b[?25l\u001b[?25hdone\n",
            "  Created wheel for quadprog: filename=quadprog-0.1.7-cp36-cp36m-linux_x86_64.whl size=299409 sha256=b1822f0b65a8afb741554672d902adaecc9b2860e7737cc0a99015480e037f6c\n",
            "  Stored in directory: /root/.cache/pip/wheels/36/dd/b1/849989444c0a5930927b260663019b7da6cff864fc224c2747\n",
            "Successfully built lime qpsolvers shap progressbar quadprog\n",
            "Installing collected packages: xport, progressbar, lime, keras-applications, tensorflow-estimator, tensorboard, tensorflow, keras, xgboost, quadprog, qpsolvers, shap, aix360\n",
            "  Found existing installation: lime 0.2.0.1\n",
            "    Uninstalling lime-0.2.0.1:\n",
            "      Successfully uninstalled lime-0.2.0.1\n",
            "  Found existing installation: tensorflow-estimator 2.3.0\n",
            "    Uninstalling tensorflow-estimator-2.3.0:\n",
            "      Successfully uninstalled tensorflow-estimator-2.3.0\n",
            "  Found existing installation: tensorboard 2.3.0\n",
            "    Uninstalling tensorboard-2.3.0:\n",
            "      Successfully uninstalled tensorboard-2.3.0\n",
            "  Found existing installation: tensorflow 2.3.0\n",
            "    Uninstalling tensorflow-2.3.0:\n",
            "      Successfully uninstalled tensorflow-2.3.0\n",
            "  Found existing installation: Keras 2.4.3\n",
            "    Uninstalling Keras-2.4.3:\n",
            "      Successfully uninstalled Keras-2.4.3\n",
            "  Found existing installation: xgboost 1.2.1\n",
            "    Uninstalling xgboost-1.2.1:\n",
            "      Successfully uninstalled xgboost-1.2.1\n",
            "  Found existing installation: shap 0.36.0\n",
            "    Uninstalling shap-0.36.0:\n",
            "      Successfully uninstalled shap-0.36.0\n",
            "Successfully installed aix360-0.2.1 keras-2.3.1 keras-applications-1.0.8 lime-0.1.1.37 progressbar-2.5 qpsolvers-1.4 quadprog-0.1.7 shap-0.34.0 tensorboard-1.14.0 tensorflow-1.14.0 tensorflow-estimator-1.14.0 xgboost-1.0.2 xport-2.0.2\n"
          ],
          "name": "stdout"
        },
        {
          "output_type": "display_data",
          "data": {
            "application/vnd.colab-display-data+json": {
              "pip_warning": {
                "packages": [
                  "lime",
                  "xgboost"
                ]
              }
            }
          },
          "metadata": {
            "tags": []
          }
        }
      ]
    },
    {
      "cell_type": "code",
      "metadata": {
        "id": "_0AE9EWt5NLr"
      },
      "source": [
        "from aix360.algorithms.rbm import GLRMExplainer, LogisticRuleRegression"
      ],
      "execution_count": 16,
      "outputs": []
    },
    {
      "cell_type": "code",
      "metadata": {
        "id": "yCNof5e75NXE"
      },
      "source": [
        "logistic_model = LogisticRuleRegression(maxSolverIter=2000)\n",
        "explainer = GLRMExplainer(logistic_model)\n",
        "explainer.fit(X_train_fb, ytrain)"
      ],
      "execution_count": 17,
      "outputs": []
    },
    {
      "cell_type": "code",
      "metadata": {
        "id": "SpKsU5i_5Ni3"
      },
      "source": [
        "Y_pred = explainer.predict(X_test_fb)"
      ],
      "execution_count": 18,
      "outputs": []
    },
    {
      "cell_type": "code",
      "metadata": {
        "id": "TzBMliYx5Nug",
        "outputId": "8d50a4e7-8f30-46cb-8a37-6169adeb6446",
        "colab": {
          "base_uri": "https://localhost:8080/"
        }
      },
      "source": [
        "from sklearn.metrics import accuracy_score, precision_score, recall_score, f1_score\n",
        "print(f'Accuracy = {accuracy_score(ytest, Y_pred)}')\n",
        "print(f'Precision = {precision_score(ytest, Y_pred, average=\"macro\")}')\n",
        "print(f'Recall = {recall_score(ytest, Y_pred, average=\"macro\")}')\n",
        "print(f'F1 = {f1_score(ytest, Y_pred, average=\"macro\")}')"
      ],
      "execution_count": 19,
      "outputs": [
        {
          "output_type": "stream",
          "text": [
            "Accuracy = 0.9150943396226415\n",
            "Precision = 0.9004024144869215\n",
            "Recall = 0.9064542483660131\n",
            "F1 = 0.9033140772271208\n"
          ],
          "name": "stdout"
        }
      ]
    },
    {
      "cell_type": "code",
      "metadata": {
        "id": "O5cx7PUq_CoH",
        "outputId": "bbe9b87e-94c7-4455-bb5a-769a31913f87",
        "colab": {
          "base_uri": "https://localhost:8080/",
          "height": 359
        }
      },
      "source": [
        "explainer.explain()"
      ],
      "execution_count": 20,
      "outputs": [
        {
          "output_type": "execute_result",
          "data": {
            "text/html": [
              "<div>\n",
              "<style scoped>\n",
              "    .dataframe tbody tr th:only-of-type {\n",
              "        vertical-align: middle;\n",
              "    }\n",
              "\n",
              "    .dataframe tbody tr th {\n",
              "        vertical-align: top;\n",
              "    }\n",
              "\n",
              "    .dataframe thead th {\n",
              "        text-align: right;\n",
              "    }\n",
              "</style>\n",
              "<table border=\"1\" class=\"dataframe\">\n",
              "  <thead>\n",
              "    <tr style=\"text-align: right;\">\n",
              "      <th></th>\n",
              "      <th>rule</th>\n",
              "      <th>coefficient</th>\n",
              "    </tr>\n",
              "  </thead>\n",
              "  <tbody>\n",
              "    <tr>\n",
              "      <th>0</th>\n",
              "      <td>(intercept)</td>\n",
              "      <td>1.81467</td>\n",
              "    </tr>\n",
              "    <tr>\n",
              "      <th>1</th>\n",
              "      <td>AMH(ng/mL) &lt;= 8.06 AND Skin darkening (Y/N) no...</td>\n",
              "      <td>-4.06394</td>\n",
              "    </tr>\n",
              "    <tr>\n",
              "      <th>2</th>\n",
              "      <td>Weight gain(Y/N)   AND Follicle No. (R) &gt; 4.00</td>\n",
              "      <td>2.93463</td>\n",
              "    </tr>\n",
              "    <tr>\n",
              "      <th>3</th>\n",
              "      <td>hair growth(Y/N) not  AND Follicle No. (R) &lt;= ...</td>\n",
              "      <td>-2.67099</td>\n",
              "    </tr>\n",
              "    <tr>\n",
              "      <th>4</th>\n",
              "      <td>Follicle No. (R) &lt;= 7.00</td>\n",
              "      <td>-2.51961</td>\n",
              "    </tr>\n",
              "    <tr>\n",
              "      <th>5</th>\n",
              "      <td>Cycle(R/I) not  AND Follicle No. (R) &lt;= 10.00</td>\n",
              "      <td>-1.74574</td>\n",
              "    </tr>\n",
              "    <tr>\n",
              "      <th>6</th>\n",
              "      <td>Fast food (Y/N)   AND Follicle No. (R) &gt; 4.00</td>\n",
              "      <td>1.08751</td>\n",
              "    </tr>\n",
              "    <tr>\n",
              "      <th>7</th>\n",
              "      <td>Skin darkening (Y/N) not  AND Follicle No. (R)...</td>\n",
              "      <td>0.515402</td>\n",
              "    </tr>\n",
              "    <tr>\n",
              "      <th>8</th>\n",
              "      <td>Weight gain(Y/N) not  AND Follicle No. (R) &lt;= ...</td>\n",
              "      <td>0.384435</td>\n",
              "    </tr>\n",
              "    <tr>\n",
              "      <th>9</th>\n",
              "      <td>Follicle No. (L) &lt;= 6.00</td>\n",
              "      <td>0.164581</td>\n",
              "    </tr>\n",
              "  </tbody>\n",
              "</table>\n",
              "</div>"
            ],
            "text/plain": [
              "                                                rule coefficient\n",
              "0                                        (intercept)     1.81467\n",
              "1  AMH(ng/mL) <= 8.06 AND Skin darkening (Y/N) no...    -4.06394\n",
              "2     Weight gain(Y/N)   AND Follicle No. (R) > 4.00     2.93463\n",
              "3  hair growth(Y/N) not  AND Follicle No. (R) <= ...    -2.67099\n",
              "4                           Follicle No. (R) <= 7.00    -2.51961\n",
              "5      Cycle(R/I) not  AND Follicle No. (R) <= 10.00    -1.74574\n",
              "6      Fast food (Y/N)   AND Follicle No. (R) > 4.00     1.08751\n",
              "7  Skin darkening (Y/N) not  AND Follicle No. (R)...    0.515402\n",
              "8  Weight gain(Y/N) not  AND Follicle No. (R) <= ...    0.384435\n",
              "9                           Follicle No. (L) <= 6.00    0.164581"
            ]
          },
          "metadata": {
            "tags": []
          },
          "execution_count": 20
        }
      ]
    },
    {
      "cell_type": "code",
      "metadata": {
        "id": "Yb49aYbH_HFh",
        "outputId": "32bc519e-1b35-4b53-df4c-38ab1e38acc9",
        "colab": {
          "base_uri": "https://localhost:8080/",
          "height": 545
        }
      },
      "source": [
        "%matplotlib inline\n",
        "\n",
        "fb = FeatureBinarizer(negations=False)\n",
        "figs, _ = explainer.visualize(df, fb)"
      ],
      "execution_count": 22,
      "outputs": [
        {
          "output_type": "display_data",
          "data": {
            "image/png": "[encoded data removed]",
            "text/plain": [
              "<Figure size 432x288 with 1 Axes>"
            ]
          },
          "metadata": {
            "tags": [],
            "image/png": {
              "width": 396,
              "height": 264
            },
            "needs_background": "light"
          }
        },
        {
          "output_type": "display_data",
          "data": {
            "image/png": "[encoded data removed]",
            "text/plain": [
              "<Figure size 432x288 with 1 Axes>"
            ]
          },
          "metadata": {
            "tags": [],
            "image/png": {
              "width": 401,
              "height": 264
            },
            "needs_background": "light"
          }
        }
      ]
    }
  ]
}